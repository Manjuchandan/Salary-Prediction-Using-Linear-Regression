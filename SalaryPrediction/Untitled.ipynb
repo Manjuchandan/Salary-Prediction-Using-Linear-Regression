{
 "cells": [
  {
   "cell_type": "code",
   "execution_count": 1,
   "metadata": {},
   "outputs": [],
   "source": [
    "import pandas as pd\n",
    "import numpy as np\n",
    "from sklearn.feature_extraction.text import CountVectorizer\n",
    "from sklearn.metrics.pairwise import cosine_similarity\n",
    "import difflib"
   ]
  },
  {
   "cell_type": "code",
   "execution_count": 2,
   "metadata": {},
   "outputs": [],
   "source": [
    "def title_from_index(index):\n",
    "    return movie[movie.index == index][\"title\"].values[0]\n"
   ]
  },
  {
   "cell_type": "code",
   "execution_count": 3,
   "metadata": {},
   "outputs": [],
   "source": [
    "def index_from_title(title):\n",
    "    title_list = movie['title'].tolist()\n",
    "    common = difflib.get_close_matches(title, title_list, 1)\n",
    "    titlesim = common[0]\n",
    "    return movie[movie.title == titlesim][\"index\"].values[0]"
   ]
  },
  {
   "cell_type": "code",
   "execution_count": 4,
   "metadata": {},
   "outputs": [],
   "source": [
    "movie = pd.read_csv(\"moviedata.csv\")\n",
    "features = ['keywords','cast','genres','director','tagline']\n",
    "for feature in features:\n",
    "    movie[feature] = movie[feature].fillna('')"
   ]
  },
  {
   "cell_type": "code",
   "execution_count": 5,
   "metadata": {},
   "outputs": [],
   "source": [
    "def combine_features(row):\n",
    "    try:\n",
    "        return row['keywords'] +\" \"+row['cast']+\" \"+row['genres']+\" \"+row['director']+\" \"+row['tagline']\n",
    "    except:\n",
    "        print (\"Error:\", row)"
   ]
  },
  {
   "cell_type": "code",
   "execution_count": 6,
   "metadata": {},
   "outputs": [],
   "source": [
    "movie[\"combined_features\"] = movie.apply(combine_features,axis=1)\n"
   ]
  },
  {
   "cell_type": "code",
   "execution_count": 7,
   "metadata": {},
   "outputs": [],
   "source": [
    "cv = CountVectorizer()\n",
    "count_matrix = cv.fit_transform(movie[\"combined_features\"])\n",
    "cosine_sim = cosine_similarity(count_matrix) \n"
   ]
  },
  {
   "cell_type": "code",
   "execution_count": 8,
   "metadata": {},
   "outputs": [
    {
     "name": "stdout",
     "output_type": "stream",
     "text": [
      "Enter movie of your choice:\tunited kingdom\n"
     ]
    }
   ],
   "source": [
    "user_movie = input(\"Enter movie of your choice:\\t\")\n",
    "movie_index = index_from_title(user_movie)\n"
   ]
  },
  {
   "cell_type": "code",
   "execution_count": 9,
   "metadata": {},
   "outputs": [
    {
     "name": "stdout",
     "output_type": "stream",
     "text": [
      "\n",
      "Other movies you might be interested in:-\n",
      "\n",
      "1) Shine\n",
      "2) Stand by Me\n",
      "3) Doctor Zhivago\n",
      "4) Don Juan DeMarco\n",
      "5) Without a Paddle\n",
      "6) Mr. Smith Goes to Washington\n",
      "7) I Want Your Money\n",
      "8) The Last Samurai\n",
      "9) The Beastmaster\n",
      "10) Dudley Do-Right\n",
      "11) Boogie Nights\n",
      "12) The Spectacular Now\n",
      "13) Miss Potter\n",
      "14) Cold Mountain\n",
      "15) The Legend of the Lone Ranger\n",
      "16) The Man from Earth\n",
      "17) Death Becomes Her\n",
      "18) The Fisher King\n",
      "19) Quo Vadis\n",
      "20) The Life Aquatic with Steve Zissou\n",
      "21) My Best Friend's Wedding\n",
      "22) Robin Hood: Prince of Thieves\n",
      "23) The Man from Snowy River\n",
      "24) West Side Story\n",
      "25) Glory Road\n",
      "26) Princess Mononoke\n",
      "27) How to Lose Friends & Alienate People\n",
      "28) Julia\n",
      "29) Kingdom of Heaven\n",
      "30) Conquest of the Planet of the Apes\n",
      "31) Stripes\n",
      "32) Among Giants\n",
      "33) The Man in the Iron Mask\n",
      "34) Beneath the Planet of the Apes\n",
      "35) Groundhog Day\n",
      "36) Letters from Iwo Jima\n",
      "37) The Land Girls\n",
      "38) A Bridge Too Far\n",
      "39) Gone with the Wind\n",
      "40) Adaptation.\n",
      "41) The Scarlet Letter\n",
      "42) Dreamcatcher\n",
      "43) Autumn in New York\n",
      "44) Sideways\n",
      "45) Dick\n",
      "46) Made of Honor\n",
      "47) Psycho\n",
      "48) A Passage to India\n",
      "49) Mary Reilly\n",
      "50) Cedar Rapids\n"
     ]
    }
   ],
   "source": [
    "similar_movies =  list(enumerate(cosine_sim[movie_index]))\n",
    "similar_movies_sorted = sorted(similar_movies,key=lambda x:x[1],reverse=True)\n",
    "i=0\n",
    "print(\"\\nOther movies you might be interested in:-\\n\")\n",
    "for rec_movie in similar_movies_sorted:\n",
    "        if(i!=0):\n",
    "            print (i,\") \",title_from_index(rec_movie[0]),sep=\"\")\n",
    "        i=i+1\n",
    "        if i>50:\n",
    "            break"
   ]
  },
  {
   "cell_type": "code",
   "execution_count": null,
   "metadata": {},
   "outputs": [],
   "source": [
    "#Thank YOU"
   ]
  }
 ],
 "metadata": {
  "kernelspec": {
   "display_name": "Python 3",
   "language": "python",
   "name": "python3"
  },
  "language_info": {
   "codemirror_mode": {
    "name": "ipython",
    "version": 3
   },
   "file_extension": ".py",
   "mimetype": "text/x-python",
   "name": "python",
   "nbconvert_exporter": "python",
   "pygments_lexer": "ipython3",
   "version": "3.7.6"
  }
 },
 "nbformat": 4,
 "nbformat_minor": 4
}
